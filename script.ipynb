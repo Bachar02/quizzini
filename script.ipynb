{
 "cells": [
  {
   "cell_type": "code",
   "execution_count": 1,
   "id": "c71d6929",
   "metadata": {},
   "outputs": [
    {
     "name": "stderr",
     "output_type": "stream",
     "text": [
      "c:\\Users\\bacha\\OneDrive\\Desktop\\learnia\\llm_vectordb\\venv\\Lib\\site-packages\\tqdm\\auto.py:21: TqdmWarning: IProgress not found. Please update jupyter and ipywidgets. See https://ipywidgets.readthedocs.io/en/stable/user_install.html\n",
      "  from .autonotebook import tqdm as notebook_tqdm\n"
     ]
    }
   ],
   "source": [
    "import pinecone\n",
    "from langchain_pinecone import PineconeVectorStore\n",
    "from langchain_google_genai import GoogleGenerativeAIEmbeddings, ChatGoogleGenerativeAI\n",
    "from langchain.chains.question_answering import load_qa_chain\n",
    "from langchain.schema import Document\n",
    "import os\n",
    "import langchain\n",
    "import pinecone\n",
    "from langchain_pinecone import PineconeVectorStore  # CORRECT IMPORT\n",
    "from langchain.document_loaders import PyPDFDirectoryLoader\n",
    "from langchain.text_splitter import RecursiveCharacterTextSplitter\n",
    "from langchain.vectorstores import Pinecone\n",
    "from langchain.llms import OpenAI\n",
    "from dotenv import load_dotenv\n"
   ]
  },
  {
   "cell_type": "code",
   "execution_count": 2,
   "id": "663f2c8a",
   "metadata": {},
   "outputs": [],
   "source": [
    "load_dotenv()\n",
    "pc = pinecone.Pinecone(api_key=os.environ['PINECONE_API_KEY'])"
   ]
  },
  {
   "cell_type": "code",
   "execution_count": 3,
   "id": "9e9d0dbc",
   "metadata": {},
   "outputs": [],
   "source": [
    "## reading the document\n",
    "def read_doc(directory):\n",
    "    file_loader = PyPDFDirectoryLoader(directory)\n",
    "    documents = file_loader.load()\n",
    "    return documents"
   ]
  },
  {
   "cell_type": "code",
   "execution_count": 4,
   "id": "c8e84520",
   "metadata": {},
   "outputs": [
    {
     "data": {
      "text/plain": [
       "21"
      ]
     },
     "execution_count": 4,
     "metadata": {},
     "output_type": "execute_result"
    }
   ],
   "source": [
    "doc = read_doc('documents/')\n",
    "len(doc)"
   ]
  },
  {
   "cell_type": "code",
   "execution_count": 5,
   "id": "8afcf44f",
   "metadata": {},
   "outputs": [],
   "source": [
    "## divide docs into chunks so the llm could process it\n",
    "\n",
    "def chunk_data(docs, chunk_size=800, chunk_overlap=50):\n",
    "    text_splitter = RecursiveCharacterTextSplitter(chunk_size=chunk_size, chunk_overlap=chunk_overlap)\n",
    "    doc = text_splitter.split_documents(docs)\n",
    "    return docs"
   ]
  },
  {
   "cell_type": "code",
   "execution_count": 6,
   "id": "fbeb678a",
   "metadata": {},
   "outputs": [
    {
     "data": {
      "text/plain": [
       "21"
      ]
     },
     "execution_count": 6,
     "metadata": {},
     "output_type": "execute_result"
    }
   ],
   "source": [
    "documents = chunk_data(docs=doc)\n",
    "len(documents)"
   ]
  },
  {
   "cell_type": "code",
   "execution_count": 7,
   "id": "deea5e6e",
   "metadata": {},
   "outputs": [
    {
     "data": {
      "text/plain": [
       "GoogleGenerativeAIEmbeddings(client=<google.ai.generativelanguage_v1beta.services.generative_service.client.GenerativeServiceClient object at 0x00000259EFA50050>, model='models/embedding-001', task_type=None, google_api_key=SecretStr('**********'), credentials=None, client_options=None, transport=None, request_options=None)"
      ]
     },
     "execution_count": 7,
     "metadata": {},
     "output_type": "execute_result"
    }
   ],
   "source": [
    "## embeddings technique of google gemini\n",
    "embeddings = GoogleGenerativeAIEmbeddings(\n",
    "    model=\"models/embedding-001\",\n",
    "    google_api_key=os.environ['GEMINI_API_KEY']\n",
    ")\n",
    "embeddings"
   ]
  },
  {
   "cell_type": "code",
   "execution_count": 8,
   "id": "6c0fe445",
   "metadata": {},
   "outputs": [
    {
     "data": {
      "text/plain": [
       "768"
      ]
     },
     "execution_count": 8,
     "metadata": {},
     "output_type": "execute_result"
    }
   ],
   "source": [
    "vectors = embeddings.embed_query(\"how are you ?\")\n",
    "len(vectors)"
   ]
  },
  {
   "cell_type": "code",
   "execution_count": 9,
   "id": "c0b6105f",
   "metadata": {},
   "outputs": [],
   "source": [
    "index_name = \"llmvectordb\""
   ]
  },
  {
   "cell_type": "code",
   "execution_count": 10,
   "id": "2030aa6f",
   "metadata": {},
   "outputs": [
    {
     "name": "stdout",
     "output_type": "stream",
     "text": [
      "Index already exists\n"
     ]
    }
   ],
   "source": [
    "if index_name not in pc.list_indexes().names():\n",
    "    pc.create_index(\n",
    "        name=index_name,\n",
    "        dimension=768,  # Gemini embedding dimension\n",
    "        metric=\"cosine\",\n",
    "        spec=pinecone.ServerlessSpec(\n",
    "            cloud=\"aws\",\n",
    "            region=\"us-west-2\"\n",
    "        )\n",
    "    )\n",
    "    print(\"Created new index\")\n",
    "    # Wait for index to be ready\n",
    "    time.sleep(30)\n",
    "else:\n",
    "    print(\"Index already exists\")"
   ]
  },
  {
   "cell_type": "code",
   "execution_count": 11,
   "id": "3f8f6f17",
   "metadata": {},
   "outputs": [],
   "source": [
    "vectorstore = PineconeVectorStore.from_documents(\n",
    "    documents=documents,\n",
    "    embedding=embeddings,\n",
    "    index_name=index_name\n",
    ")"
   ]
  },
  {
   "cell_type": "code",
   "execution_count": 12,
   "id": "f359a400",
   "metadata": {},
   "outputs": [],
   "source": [
    "def retrieve_query(query, k=2):\n",
    "    matching_results = vectorstore.similarity_search(query, k=k)\n",
    "    return matching_results"
   ]
  },
  {
   "cell_type": "code",
   "execution_count": 16,
   "id": "49103f11",
   "metadata": {},
   "outputs": [],
   "source": [
    "llm = ChatGoogleGenerativeAI(\n",
    "    model=\"models/gemini-1.5-flash\",\n",
    "    google_api_key=os.environ['GEMINI_API_KEY'],\n",
    "    temperature=0.5\n",
    ")"
   ]
  },
  {
   "cell_type": "code",
   "execution_count": 14,
   "id": "7c8afa2c",
   "metadata": {},
   "outputs": [
    {
     "name": "stdout",
     "output_type": "stream",
     "text": [
      "Available models:\n",
      "Model: models/gemini-1.5-pro-latest\n",
      "Display name: Gemini 1.5 Pro Latest\n",
      "---\n",
      "Model: models/gemini-1.5-pro-002\n",
      "Display name: Gemini 1.5 Pro 002\n",
      "---\n",
      "Model: models/gemini-1.5-pro\n",
      "Display name: Gemini 1.5 Pro\n",
      "---\n",
      "Model: models/gemini-1.5-flash-latest\n",
      "Display name: Gemini 1.5 Flash Latest\n",
      "---\n",
      "Model: models/gemini-1.5-flash\n",
      "Display name: Gemini 1.5 Flash\n",
      "---\n",
      "Model: models/gemini-1.5-flash-002\n",
      "Display name: Gemini 1.5 Flash 002\n",
      "---\n",
      "Model: models/gemini-1.5-flash-8b\n",
      "Display name: Gemini 1.5 Flash-8B\n",
      "---\n",
      "Model: models/gemini-1.5-flash-8b-001\n",
      "Display name: Gemini 1.5 Flash-8B 001\n",
      "---\n",
      "Model: models/gemini-1.5-flash-8b-latest\n",
      "Display name: Gemini 1.5 Flash-8B Latest\n",
      "---\n",
      "Model: models/gemini-2.5-pro-preview-03-25\n",
      "Display name: Gemini 2.5 Pro Preview 03-25\n",
      "---\n",
      "Model: models/gemini-2.5-flash-preview-05-20\n",
      "Display name: Gemini 2.5 Flash Preview 05-20\n",
      "---\n",
      "Model: models/gemini-2.5-flash\n",
      "Display name: Gemini 2.5 Flash\n",
      "---\n",
      "Model: models/gemini-2.5-flash-lite-preview-06-17\n",
      "Display name: Gemini 2.5 Flash-Lite Preview 06-17\n",
      "---\n",
      "Model: models/gemini-2.5-pro-preview-05-06\n",
      "Display name: Gemini 2.5 Pro Preview 05-06\n",
      "---\n",
      "Model: models/gemini-2.5-pro-preview-06-05\n",
      "Display name: Gemini 2.5 Pro Preview\n",
      "---\n",
      "Model: models/gemini-2.5-pro\n",
      "Display name: Gemini 2.5 Pro\n",
      "---\n",
      "Model: models/gemini-2.0-flash-exp\n",
      "Display name: Gemini 2.0 Flash Experimental\n",
      "---\n",
      "Model: models/gemini-2.0-flash\n",
      "Display name: Gemini 2.0 Flash\n",
      "---\n",
      "Model: models/gemini-2.0-flash-001\n",
      "Display name: Gemini 2.0 Flash 001\n",
      "---\n",
      "Model: models/gemini-2.0-flash-exp-image-generation\n",
      "Display name: Gemini 2.0 Flash (Image Generation) Experimental\n",
      "---\n",
      "Model: models/gemini-2.0-flash-lite-001\n",
      "Display name: Gemini 2.0 Flash-Lite 001\n",
      "---\n",
      "Model: models/gemini-2.0-flash-lite\n",
      "Display name: Gemini 2.0 Flash-Lite\n",
      "---\n",
      "Model: models/gemini-2.0-flash-preview-image-generation\n",
      "Display name: Gemini 2.0 Flash Preview Image Generation\n",
      "---\n",
      "Model: models/gemini-2.0-flash-lite-preview-02-05\n",
      "Display name: Gemini 2.0 Flash-Lite Preview 02-05\n",
      "---\n",
      "Model: models/gemini-2.0-flash-lite-preview\n",
      "Display name: Gemini 2.0 Flash-Lite Preview\n",
      "---\n",
      "Model: models/gemini-2.0-pro-exp\n",
      "Display name: Gemini 2.0 Pro Experimental\n",
      "---\n",
      "Model: models/gemini-2.0-pro-exp-02-05\n",
      "Display name: Gemini 2.0 Pro Experimental 02-05\n",
      "---\n",
      "Model: models/gemini-exp-1206\n",
      "Display name: Gemini Experimental 1206\n",
      "---\n",
      "Model: models/gemini-2.0-flash-thinking-exp-01-21\n",
      "Display name: Gemini 2.5 Flash Preview 05-20\n",
      "---\n",
      "Model: models/gemini-2.0-flash-thinking-exp\n",
      "Display name: Gemini 2.5 Flash Preview 05-20\n",
      "---\n",
      "Model: models/gemini-2.0-flash-thinking-exp-1219\n",
      "Display name: Gemini 2.5 Flash Preview 05-20\n",
      "---\n",
      "Model: models/gemini-2.5-flash-preview-tts\n",
      "Display name: Gemini 2.5 Flash Preview TTS\n",
      "---\n",
      "Model: models/gemini-2.5-pro-preview-tts\n",
      "Display name: Gemini 2.5 Pro Preview TTS\n",
      "---\n",
      "Model: models/learnlm-2.0-flash-experimental\n",
      "Display name: LearnLM 2.0 Flash Experimental\n",
      "---\n",
      "Model: models/gemma-3-1b-it\n",
      "Display name: Gemma 3 1B\n",
      "---\n",
      "Model: models/gemma-3-4b-it\n",
      "Display name: Gemma 3 4B\n",
      "---\n",
      "Model: models/gemma-3-12b-it\n",
      "Display name: Gemma 3 12B\n",
      "---\n",
      "Model: models/gemma-3-27b-it\n",
      "Display name: Gemma 3 27B\n",
      "---\n",
      "Model: models/gemma-3n-e4b-it\n",
      "Display name: Gemma 3n E4B\n",
      "---\n",
      "Model: models/gemma-3n-e2b-it\n",
      "Display name: Gemma 3n E2B\n",
      "---\n",
      "Model: models/gemini-2.5-flash-lite\n",
      "Display name: Gemini 2.5 Flash-Lite\n",
      "---\n"
     ]
    }
   ],
   "source": [
    "import google.generativeai as genai\n",
    "from google.api_core import client_options\n",
    "\n",
    "# Configure with explicit options\n",
    "genai.configure(\n",
    "    api_key=os.environ['GEMINI_API_KEY'],\n",
    "    # client_options=client_options.ClientOptions(api_endpoint=\"generativelanguage.googleapis.com\")\n",
    ")\n",
    "\n",
    "# List available models\n",
    "print(\"Available models:\")\n",
    "for model in genai.list_models():\n",
    "    if 'generateContent' in model.supported_generation_methods:\n",
    "        print(f\"Model: {model.name}\")\n",
    "        print(f\"Display name: {model.display_name}\")\n",
    "        print(\"---\")\n",
    "\n",
    "# Use the exact model name from the list"
   ]
  },
  {
   "cell_type": "code",
   "execution_count": 17,
   "id": "ecb668d6",
   "metadata": {},
   "outputs": [
    {
     "name": "stdout",
     "output_type": "stream",
     "text": [
      "I am doing well, thank you for asking!  How are you today?\n"
     ]
    }
   ],
   "source": [
    "# Test the connection\n",
    "response = llm.invoke(\"Hello, how are you?\")\n",
    "print(response.content)"
   ]
  },
  {
   "cell_type": "code",
   "execution_count": 18,
   "id": "4d3efe3b",
   "metadata": {},
   "outputs": [
    {
     "name": "stderr",
     "output_type": "stream",
     "text": [
      "C:\\Users\\bacha\\AppData\\Local\\Temp\\ipykernel_21020\\1148363849.py:1: LangChainDeprecationWarning: This class is deprecated. See the following migration guides for replacements based on `chain_type`:\n",
      "stuff: https://python.langchain.com/docs/versions/migrating_chains/stuff_docs_chain\n",
      "map_reduce: https://python.langchain.com/docs/versions/migrating_chains/map_reduce_chain\n",
      "refine: https://python.langchain.com/docs/versions/migrating_chains/refine_chain\n",
      "map_rerank: https://python.langchain.com/docs/versions/migrating_chains/map_rerank_docs_chain\n",
      "\n",
      "See also guides on retrieval and question-answering here: https://python.langchain.com/docs/how_to/#qa-with-rag\n",
      "  chain = load_qa_chain(llm, chain_type=\"stuff\")\n"
     ]
    }
   ],
   "source": [
    "chain = load_qa_chain(llm, chain_type=\"stuff\")"
   ]
  },
  {
   "cell_type": "code",
   "execution_count": 19,
   "id": "f5134e00",
   "metadata": {},
   "outputs": [],
   "source": [
    "def retrieve_answers(query):\n",
    "    doc_search = retrieve_query(query)\n",
    "    print(doc_search)\n",
    "    response = chain.run(input_documents=doc_search, question=query)\n",
    "    return response\n"
   ]
  },
  {
   "cell_type": "code",
   "execution_count": 20,
   "id": "911d3a6e",
   "metadata": {},
   "outputs": [
    {
     "name": "stdout",
     "output_type": "stream",
     "text": [
      "[Document(id='9ad87013-d869-4429-b8f6-51efc239d202', metadata={'creationdate': 'D:20250823115734', 'creator': 'PDFium', 'page': 0.0, 'page_label': '1', 'producer': 'PDFium', 'source': 'documents\\\\doc.pdf', 'total_pages': 21.0}, page_content=\"ANALYSE CYCLE DE VIE ENVIRONNEMENTAL – EMPREINTE CARBONE\\nTaieb BEN ROMDHANE     IMI4                                                                                                                                       Page 1 | 1\\nObjectifs du cours :\\uf0b7 Comprendre les principes de base de l'analyse du cycle de vie.\\uf0b7 Apprendre les étapes clés du processus ACV.\\uf0b7 Identifier les outils et méthodologies utilisés pour effectuer une ACV.\\uf0b7 Savoir interpréter les résultats d’une ACV et appliquer les conclusions pour une gestion durable des produits1. Définition et objectifs de l'ACVL'analyse du cycle de vie (ACV) est un outil qui permet d’évaluer les impacts environnementaux d'un produit ou d'un service tout au long de son existence. Cela comprend les phases suivantes :\\uf0b7 Extraction des matières premières\\uf0b7 Fabrication\\uf0b7 Transport\\uf0b7 Utilisation\\uf0b7 Fin de vie (recyclage, incinération, mise en décharge)\\nL'ACV permet de prendre des décisions informées pour minimiser l'impact écologique global, améliorer l'efficacité des ressources et réduire l’empreinte environnementale des produits.Objectifs de l’ACV :\\uf0b7 Évaluer les impacts environnementaux associés à toutes les étapes du cycle de vie d'un produit ou service.\\uf0b7 Comparer différents scénarios ou produits pour choisir ceux ayant un moindre impact.\"), Document(id='11fb46f1-8555-4ed5-a561-e44ef807f0db', metadata={'creationdate': 'D:20250823115734', 'creator': 'PDFium', 'page': 0.0, 'page_label': '1', 'producer': 'PDFium', 'source': 'documents\\\\doc.pdf', 'total_pages': 21.0}, page_content=\"ANALYSE CYCLE DE VIE ENVIRONNEMENTAL – EMPREINTE CARBONE\\nTaieb BEN ROMDHANE     IMI4                                                                                                                                       Page 1 | 1\\nObjectifs du cours :\\uf0b7 Comprendre les principes de base de l'analyse du cycle de vie.\\uf0b7 Apprendre les étapes clés du processus ACV.\\uf0b7 Identifier les outils et méthodologies utilisés pour effectuer une ACV.\\uf0b7 Savoir interpréter les résultats d’une ACV et appliquer les conclusions pour une gestion durable des produits1. Définition et objectifs de l'ACVL'analyse du cycle de vie (ACV) est un outil qui permet d’évaluer les impacts environnementaux d'un produit ou d'un service tout au long de son existence. Cela comprend les phases suivantes :\\uf0b7 Extraction des matières premières\\uf0b7 Fabrication\\uf0b7 Transport\\uf0b7 Utilisation\\uf0b7 Fin de vie (recyclage, incinération, mise en décharge)\\nL'ACV permet de prendre des décisions informées pour minimiser l'impact écologique global, améliorer l'efficacité des ressources et réduire l’empreinte environnementale des produits.Objectifs de l’ACV :\\uf0b7 Évaluer les impacts environnementaux associés à toutes les étapes du cycle de vie d'un produit ou service.\\uf0b7 Comparer différents scénarios ou produits pour choisir ceux ayant un moindre impact.\")]\n"
     ]
    },
    {
     "name": "stderr",
     "output_type": "stream",
     "text": [
      "C:\\Users\\bacha\\AppData\\Local\\Temp\\ipykernel_21020\\1057002901.py:4: LangChainDeprecationWarning: The method `Chain.run` was deprecated in langchain 0.1.0 and will be removed in 1.0. Use :meth:`~invoke` instead.\n",
      "  response = chain.run(input_documents=doc_search, question=query)\n"
     ]
    },
    {
     "name": "stdout",
     "output_type": "stream",
     "text": [
      "Based on the provided text, ACV (Analyse du Cycle de Vie) is a tool used to evaluate the environmental impacts of a product or service throughout its entire life cycle.  This includes the extraction of raw materials, manufacturing, transportation, use, and end-of-life (recycling, incineration, or landfilling).\n"
     ]
    }
   ],
   "source": [
    "our_query = \"give me the definition of acv\"\n",
    "answer = retrieve_answers(our_query)\n",
    "print(answer)"
   ]
  },
  {
   "cell_type": "code",
   "execution_count": null,
   "id": "098c0e17",
   "metadata": {},
   "outputs": [],
   "source": []
  }
 ],
 "metadata": {
  "kernelspec": {
   "display_name": "venv",
   "language": "python",
   "name": "python3"
  },
  "language_info": {
   "codemirror_mode": {
    "name": "ipython",
    "version": 3
   },
   "file_extension": ".py",
   "mimetype": "text/x-python",
   "name": "python",
   "nbconvert_exporter": "python",
   "pygments_lexer": "ipython3",
   "version": "3.13.5"
  }
 },
 "nbformat": 4,
 "nbformat_minor": 5
}
